{
  "cells": [
    {
      "cell_type": "markdown",
      "metadata": {
        "id": "view-in-github",
        "colab_type": "text"
      },
      "source": [
        "<a href=\"https://colab.research.google.com/github/souaddev/Master-Thesis-Anomaly-Detection-in-Industrial-Control-Systems-Using-Dynamic-Time-Warping/blob/main/SWaT_Data_Preprocessing.ipynb\" target=\"_parent\"><img src=\"https://colab.research.google.com/assets/colab-badge.svg\" alt=\"Open In Colab\"/></a>"
      ]
    },
    {
      "cell_type": "markdown",
      "metadata": {
        "id": "ijwWli54CEY3"
      },
      "source": [
        "# **Thesis: Dynamic Time Warping Based Anomaly Detection For Industrial Control System**\n",
        "**Souad Asroubi**"
      ]
    },
    {
      "cell_type": "markdown",
      "metadata": {
        "id": "Q--DmAipnymN"
      },
      "source": [
        "#**1. Import libraries**"
      ]
    },
    {
      "cell_type": "code",
      "execution_count": null,
      "metadata": {
        "id": "vgn60gmQBk_8"
      },
      "outputs": [],
      "source": [
        "import pandas as pd\n",
        "import numpy as np\n",
        "import tensorflow as tf\n",
        "import warnings\n",
        "warnings.filterwarnings(\"ignore\")\n",
        "from sklearn.preprocessing import MinMaxScaler\n",
        "import matplotlib.pyplot as plt\n",
        "from sklearn.model_selection import train_test_split\n",
        "from tensorflow.keras.models import Sequential, Model\n",
        "from keras.optimizers import Adam\n",
        "from tensorflow.keras.layers import LSTM, Dense,Input,Dropout, BatchNormalization\n",
        "from tensorflow.keras.callbacks import EarlyStopping\n",
        "from sklearn.ensemble import IsolationForest\n",
        "from sklearn.metrics import confusion_matrix, precision_score, recall_score, f1_score, roc_curve, roc_auc_score,accuracy_score,classification_report\n",
        "from sklearn.preprocessing import OneHotEncoder\n",
        "from scipy.spatial.distance import euclidean\n",
        "from sklearn.model_selection import GridSearchCV\n",
        "from sklearn.metrics import make_scorer,r2_score\n",
        "from sklearn.metrics import mean_squared_error\n",
        "from tensorflow.keras.models import Model\n",
        "from tensorflow.keras.utils import to_categorical\n",
        "from keras.layers import TimeDistributed,Reshape\n",
        "\n"
      ]
    },
    {
      "cell_type": "code",
      "execution_count": null,
      "metadata": {
        "id": "uTeyG0M6__zi",
        "colab": {
          "base_uri": "https://localhost:8080/"
        },
        "outputId": "affbc522-73fc-4285-aec9-fb5b8410a008"
      },
      "outputs": [
        {
          "output_type": "stream",
          "name": "stdout",
          "text": [
            "Mounted at /content/drive/\n"
          ]
        }
      ],
      "source": [
        "from google.colab import drive\n",
        "drive.mount('/content/drive/')"
      ]
    },
    {
      "cell_type": "markdown",
      "metadata": {
        "id": "0qJNJiN9o0nM"
      },
      "source": [
        "# **2. Dataset Loading**"
      ]
    },
    {
      "cell_type": "code",
      "execution_count": null,
      "metadata": {
        "id": "OVK4QEkx62Ta"
      },
      "outputs": [],
      "source": [
        "dataset_path_normal = '/content/drive/My Drive/swat/SWaT_Dataset_Normal_v0.csv'\n",
        "dataset_path_attack = '/content/drive/My Drive/swat/SWaT_Dataset_Attack_v0.csv'"
      ]
    },
    {
      "cell_type": "code",
      "execution_count": null,
      "metadata": {
        "id": "204HTa4ysmLu"
      },
      "outputs": [],
      "source": [
        "SWaT_normal = pd.read_csv(dataset_path_normal)\n",
        "SWaT_attack = pd.read_csv(dataset_path_attack)\n",
        "\n",
        "data = pd.concat([SWaT_normal, SWaT_attack])"
      ]
    },
    {
      "cell_type": "code",
      "execution_count": null,
      "metadata": {
        "colab": {
          "base_uri": "https://localhost:8080/",
          "height": 339
        },
        "id": "WPi1LFFAkLaM",
        "outputId": "6548ee2b-94bc-4b8a-bce4-523828326234"
      },
      "outputs": [
        {
          "output_type": "stream",
          "name": "stdout",
          "text": [
            "(946719, 53)\n"
          ]
        },
        {
          "output_type": "execute_result",
          "data": {
            "text/plain": [
              "                Timestamp    FIT101    LIT101  MV101  P101  P102    AIT201  \\\n",
              "0   22/12/2015 4:00:00 PM  2.470294  261.5804      2     2     1  244.3284   \n",
              "1   22/12/2015 4:00:01 PM  2.457163  261.1879      2     2     1  244.3284   \n",
              "2   22/12/2015 4:00:02 PM  2.439548  260.9131      2     2     1  244.3284   \n",
              "3   22/12/2015 4:00:03 PM  2.428338  260.2850      2     2     1  244.3284   \n",
              "4   22/12/2015 4:00:04 PM  2.424815  259.8925      2     2     1  244.4245   \n",
              "\n",
              "    AIT202   AIT203    FIT201  ...  P501  P502    PIT501  PIT502    PIT503  \\\n",
              "0  8.19008  306.101  2.471278  ...     1     1  10.02948     0.0  4.277749   \n",
              "1  8.19008  306.101  2.468587  ...     1     1  10.02948     0.0  4.277749   \n",
              "2  8.19008  306.101  2.467305  ...     1     1  10.02948     0.0  4.277749   \n",
              "3  8.19008  306.101  2.466536  ...     1     1  10.02948     0.0  4.277749   \n",
              "4  8.19008  306.101  2.466536  ...     1     1  10.02948     0.0  4.277749   \n",
              "\n",
              "     FIT601  P601  P602  P603  Normal/Attack  \n",
              "0  0.000256     1     1     1         Normal  \n",
              "1  0.000256     1     1     1         Normal  \n",
              "2  0.000256     1     1     1         Normal  \n",
              "3  0.000256     1     1     1         Normal  \n",
              "4  0.000256     1     1     1         Normal  \n",
              "\n",
              "[5 rows x 53 columns]"
            ],
            "text/html": [
              "\n",
              "  <div id=\"df-3b028531-bdf6-4650-abbe-435015057ae4\" class=\"colab-df-container\">\n",
              "    <div>\n",
              "<style scoped>\n",
              "    .dataframe tbody tr th:only-of-type {\n",
              "        vertical-align: middle;\n",
              "    }\n",
              "\n",
              "    .dataframe tbody tr th {\n",
              "        vertical-align: top;\n",
              "    }\n",
              "\n",
              "    .dataframe thead th {\n",
              "        text-align: right;\n",
              "    }\n",
              "</style>\n",
              "<table border=\"1\" class=\"dataframe\">\n",
              "  <thead>\n",
              "    <tr style=\"text-align: right;\">\n",
              "      <th></th>\n",
              "      <th>Timestamp</th>\n",
              "      <th>FIT101</th>\n",
              "      <th>LIT101</th>\n",
              "      <th>MV101</th>\n",
              "      <th>P101</th>\n",
              "      <th>P102</th>\n",
              "      <th>AIT201</th>\n",
              "      <th>AIT202</th>\n",
              "      <th>AIT203</th>\n",
              "      <th>FIT201</th>\n",
              "      <th>...</th>\n",
              "      <th>P501</th>\n",
              "      <th>P502</th>\n",
              "      <th>PIT501</th>\n",
              "      <th>PIT502</th>\n",
              "      <th>PIT503</th>\n",
              "      <th>FIT601</th>\n",
              "      <th>P601</th>\n",
              "      <th>P602</th>\n",
              "      <th>P603</th>\n",
              "      <th>Normal/Attack</th>\n",
              "    </tr>\n",
              "  </thead>\n",
              "  <tbody>\n",
              "    <tr>\n",
              "      <th>0</th>\n",
              "      <td>22/12/2015 4:00:00 PM</td>\n",
              "      <td>2.470294</td>\n",
              "      <td>261.5804</td>\n",
              "      <td>2</td>\n",
              "      <td>2</td>\n",
              "      <td>1</td>\n",
              "      <td>244.3284</td>\n",
              "      <td>8.19008</td>\n",
              "      <td>306.101</td>\n",
              "      <td>2.471278</td>\n",
              "      <td>...</td>\n",
              "      <td>1</td>\n",
              "      <td>1</td>\n",
              "      <td>10.02948</td>\n",
              "      <td>0.0</td>\n",
              "      <td>4.277749</td>\n",
              "      <td>0.000256</td>\n",
              "      <td>1</td>\n",
              "      <td>1</td>\n",
              "      <td>1</td>\n",
              "      <td>Normal</td>\n",
              "    </tr>\n",
              "    <tr>\n",
              "      <th>1</th>\n",
              "      <td>22/12/2015 4:00:01 PM</td>\n",
              "      <td>2.457163</td>\n",
              "      <td>261.1879</td>\n",
              "      <td>2</td>\n",
              "      <td>2</td>\n",
              "      <td>1</td>\n",
              "      <td>244.3284</td>\n",
              "      <td>8.19008</td>\n",
              "      <td>306.101</td>\n",
              "      <td>2.468587</td>\n",
              "      <td>...</td>\n",
              "      <td>1</td>\n",
              "      <td>1</td>\n",
              "      <td>10.02948</td>\n",
              "      <td>0.0</td>\n",
              "      <td>4.277749</td>\n",
              "      <td>0.000256</td>\n",
              "      <td>1</td>\n",
              "      <td>1</td>\n",
              "      <td>1</td>\n",
              "      <td>Normal</td>\n",
              "    </tr>\n",
              "    <tr>\n",
              "      <th>2</th>\n",
              "      <td>22/12/2015 4:00:02 PM</td>\n",
              "      <td>2.439548</td>\n",
              "      <td>260.9131</td>\n",
              "      <td>2</td>\n",
              "      <td>2</td>\n",
              "      <td>1</td>\n",
              "      <td>244.3284</td>\n",
              "      <td>8.19008</td>\n",
              "      <td>306.101</td>\n",
              "      <td>2.467305</td>\n",
              "      <td>...</td>\n",
              "      <td>1</td>\n",
              "      <td>1</td>\n",
              "      <td>10.02948</td>\n",
              "      <td>0.0</td>\n",
              "      <td>4.277749</td>\n",
              "      <td>0.000256</td>\n",
              "      <td>1</td>\n",
              "      <td>1</td>\n",
              "      <td>1</td>\n",
              "      <td>Normal</td>\n",
              "    </tr>\n",
              "    <tr>\n",
              "      <th>3</th>\n",
              "      <td>22/12/2015 4:00:03 PM</td>\n",
              "      <td>2.428338</td>\n",
              "      <td>260.2850</td>\n",
              "      <td>2</td>\n",
              "      <td>2</td>\n",
              "      <td>1</td>\n",
              "      <td>244.3284</td>\n",
              "      <td>8.19008</td>\n",
              "      <td>306.101</td>\n",
              "      <td>2.466536</td>\n",
              "      <td>...</td>\n",
              "      <td>1</td>\n",
              "      <td>1</td>\n",
              "      <td>10.02948</td>\n",
              "      <td>0.0</td>\n",
              "      <td>4.277749</td>\n",
              "      <td>0.000256</td>\n",
              "      <td>1</td>\n",
              "      <td>1</td>\n",
              "      <td>1</td>\n",
              "      <td>Normal</td>\n",
              "    </tr>\n",
              "    <tr>\n",
              "      <th>4</th>\n",
              "      <td>22/12/2015 4:00:04 PM</td>\n",
              "      <td>2.424815</td>\n",
              "      <td>259.8925</td>\n",
              "      <td>2</td>\n",
              "      <td>2</td>\n",
              "      <td>1</td>\n",
              "      <td>244.4245</td>\n",
              "      <td>8.19008</td>\n",
              "      <td>306.101</td>\n",
              "      <td>2.466536</td>\n",
              "      <td>...</td>\n",
              "      <td>1</td>\n",
              "      <td>1</td>\n",
              "      <td>10.02948</td>\n",
              "      <td>0.0</td>\n",
              "      <td>4.277749</td>\n",
              "      <td>0.000256</td>\n",
              "      <td>1</td>\n",
              "      <td>1</td>\n",
              "      <td>1</td>\n",
              "      <td>Normal</td>\n",
              "    </tr>\n",
              "  </tbody>\n",
              "</table>\n",
              "<p>5 rows × 53 columns</p>\n",
              "</div>\n",
              "    <div class=\"colab-df-buttons\">\n",
              "\n",
              "  <div class=\"colab-df-container\">\n",
              "    <button class=\"colab-df-convert\" onclick=\"convertToInteractive('df-3b028531-bdf6-4650-abbe-435015057ae4')\"\n",
              "            title=\"Convert this dataframe to an interactive table.\"\n",
              "            style=\"display:none;\">\n",
              "\n",
              "  <svg xmlns=\"http://www.w3.org/2000/svg\" height=\"24px\" viewBox=\"0 -960 960 960\">\n",
              "    <path d=\"M120-120v-720h720v720H120Zm60-500h600v-160H180v160Zm220 220h160v-160H400v160Zm0 220h160v-160H400v160ZM180-400h160v-160H180v160Zm440 0h160v-160H620v160ZM180-180h160v-160H180v160Zm440 0h160v-160H620v160Z\"/>\n",
              "  </svg>\n",
              "    </button>\n",
              "\n",
              "  <style>\n",
              "    .colab-df-container {\n",
              "      display:flex;\n",
              "      gap: 12px;\n",
              "    }\n",
              "\n",
              "    .colab-df-convert {\n",
              "      background-color: #E8F0FE;\n",
              "      border: none;\n",
              "      border-radius: 50%;\n",
              "      cursor: pointer;\n",
              "      display: none;\n",
              "      fill: #1967D2;\n",
              "      height: 32px;\n",
              "      padding: 0 0 0 0;\n",
              "      width: 32px;\n",
              "    }\n",
              "\n",
              "    .colab-df-convert:hover {\n",
              "      background-color: #E2EBFA;\n",
              "      box-shadow: 0px 1px 2px rgba(60, 64, 67, 0.3), 0px 1px 3px 1px rgba(60, 64, 67, 0.15);\n",
              "      fill: #174EA6;\n",
              "    }\n",
              "\n",
              "    .colab-df-buttons div {\n",
              "      margin-bottom: 4px;\n",
              "    }\n",
              "\n",
              "    [theme=dark] .colab-df-convert {\n",
              "      background-color: #3B4455;\n",
              "      fill: #D2E3FC;\n",
              "    }\n",
              "\n",
              "    [theme=dark] .colab-df-convert:hover {\n",
              "      background-color: #434B5C;\n",
              "      box-shadow: 0px 1px 3px 1px rgba(0, 0, 0, 0.15);\n",
              "      filter: drop-shadow(0px 1px 2px rgba(0, 0, 0, 0.3));\n",
              "      fill: #FFFFFF;\n",
              "    }\n",
              "  </style>\n",
              "\n",
              "    <script>\n",
              "      const buttonEl =\n",
              "        document.querySelector('#df-3b028531-bdf6-4650-abbe-435015057ae4 button.colab-df-convert');\n",
              "      buttonEl.style.display =\n",
              "        google.colab.kernel.accessAllowed ? 'block' : 'none';\n",
              "\n",
              "      async function convertToInteractive(key) {\n",
              "        const element = document.querySelector('#df-3b028531-bdf6-4650-abbe-435015057ae4');\n",
              "        const dataTable =\n",
              "          await google.colab.kernel.invokeFunction('convertToInteractive',\n",
              "                                                    [key], {});\n",
              "        if (!dataTable) return;\n",
              "\n",
              "        const docLinkHtml = 'Like what you see? Visit the ' +\n",
              "          '<a target=\"_blank\" href=https://colab.research.google.com/notebooks/data_table.ipynb>data table notebook</a>'\n",
              "          + ' to learn more about interactive tables.';\n",
              "        element.innerHTML = '';\n",
              "        dataTable['output_type'] = 'display_data';\n",
              "        await google.colab.output.renderOutput(dataTable, element);\n",
              "        const docLink = document.createElement('div');\n",
              "        docLink.innerHTML = docLinkHtml;\n",
              "        element.appendChild(docLink);\n",
              "      }\n",
              "    </script>\n",
              "  </div>\n",
              "\n",
              "\n",
              "<div id=\"df-a2ad0ec7-0c3c-4dd8-94ac-10a1afaadab3\">\n",
              "  <button class=\"colab-df-quickchart\" onclick=\"quickchart('df-a2ad0ec7-0c3c-4dd8-94ac-10a1afaadab3')\"\n",
              "            title=\"Suggest charts\"\n",
              "            style=\"display:none;\">\n",
              "\n",
              "<svg xmlns=\"http://www.w3.org/2000/svg\" height=\"24px\"viewBox=\"0 0 24 24\"\n",
              "     width=\"24px\">\n",
              "    <g>\n",
              "        <path d=\"M19 3H5c-1.1 0-2 .9-2 2v14c0 1.1.9 2 2 2h14c1.1 0 2-.9 2-2V5c0-1.1-.9-2-2-2zM9 17H7v-7h2v7zm4 0h-2V7h2v10zm4 0h-2v-4h2v4z\"/>\n",
              "    </g>\n",
              "</svg>\n",
              "  </button>\n",
              "\n",
              "<style>\n",
              "  .colab-df-quickchart {\n",
              "      --bg-color: #E8F0FE;\n",
              "      --fill-color: #1967D2;\n",
              "      --hover-bg-color: #E2EBFA;\n",
              "      --hover-fill-color: #174EA6;\n",
              "      --disabled-fill-color: #AAA;\n",
              "      --disabled-bg-color: #DDD;\n",
              "  }\n",
              "\n",
              "  [theme=dark] .colab-df-quickchart {\n",
              "      --bg-color: #3B4455;\n",
              "      --fill-color: #D2E3FC;\n",
              "      --hover-bg-color: #434B5C;\n",
              "      --hover-fill-color: #FFFFFF;\n",
              "      --disabled-bg-color: #3B4455;\n",
              "      --disabled-fill-color: #666;\n",
              "  }\n",
              "\n",
              "  .colab-df-quickchart {\n",
              "    background-color: var(--bg-color);\n",
              "    border: none;\n",
              "    border-radius: 50%;\n",
              "    cursor: pointer;\n",
              "    display: none;\n",
              "    fill: var(--fill-color);\n",
              "    height: 32px;\n",
              "    padding: 0;\n",
              "    width: 32px;\n",
              "  }\n",
              "\n",
              "  .colab-df-quickchart:hover {\n",
              "    background-color: var(--hover-bg-color);\n",
              "    box-shadow: 0 1px 2px rgba(60, 64, 67, 0.3), 0 1px 3px 1px rgba(60, 64, 67, 0.15);\n",
              "    fill: var(--button-hover-fill-color);\n",
              "  }\n",
              "\n",
              "  .colab-df-quickchart-complete:disabled,\n",
              "  .colab-df-quickchart-complete:disabled:hover {\n",
              "    background-color: var(--disabled-bg-color);\n",
              "    fill: var(--disabled-fill-color);\n",
              "    box-shadow: none;\n",
              "  }\n",
              "\n",
              "  .colab-df-spinner {\n",
              "    border: 2px solid var(--fill-color);\n",
              "    border-color: transparent;\n",
              "    border-bottom-color: var(--fill-color);\n",
              "    animation:\n",
              "      spin 1s steps(1) infinite;\n",
              "  }\n",
              "\n",
              "  @keyframes spin {\n",
              "    0% {\n",
              "      border-color: transparent;\n",
              "      border-bottom-color: var(--fill-color);\n",
              "      border-left-color: var(--fill-color);\n",
              "    }\n",
              "    20% {\n",
              "      border-color: transparent;\n",
              "      border-left-color: var(--fill-color);\n",
              "      border-top-color: var(--fill-color);\n",
              "    }\n",
              "    30% {\n",
              "      border-color: transparent;\n",
              "      border-left-color: var(--fill-color);\n",
              "      border-top-color: var(--fill-color);\n",
              "      border-right-color: var(--fill-color);\n",
              "    }\n",
              "    40% {\n",
              "      border-color: transparent;\n",
              "      border-right-color: var(--fill-color);\n",
              "      border-top-color: var(--fill-color);\n",
              "    }\n",
              "    60% {\n",
              "      border-color: transparent;\n",
              "      border-right-color: var(--fill-color);\n",
              "    }\n",
              "    80% {\n",
              "      border-color: transparent;\n",
              "      border-right-color: var(--fill-color);\n",
              "      border-bottom-color: var(--fill-color);\n",
              "    }\n",
              "    90% {\n",
              "      border-color: transparent;\n",
              "      border-bottom-color: var(--fill-color);\n",
              "    }\n",
              "  }\n",
              "</style>\n",
              "\n",
              "  <script>\n",
              "    async function quickchart(key) {\n",
              "      const quickchartButtonEl =\n",
              "        document.querySelector('#' + key + ' button');\n",
              "      quickchartButtonEl.disabled = true;  // To prevent multiple clicks.\n",
              "      quickchartButtonEl.classList.add('colab-df-spinner');\n",
              "      try {\n",
              "        const charts = await google.colab.kernel.invokeFunction(\n",
              "            'suggestCharts', [key], {});\n",
              "      } catch (error) {\n",
              "        console.error('Error during call to suggestCharts:', error);\n",
              "      }\n",
              "      quickchartButtonEl.classList.remove('colab-df-spinner');\n",
              "      quickchartButtonEl.classList.add('colab-df-quickchart-complete');\n",
              "    }\n",
              "    (() => {\n",
              "      let quickchartButtonEl =\n",
              "        document.querySelector('#df-a2ad0ec7-0c3c-4dd8-94ac-10a1afaadab3 button');\n",
              "      quickchartButtonEl.style.display =\n",
              "        google.colab.kernel.accessAllowed ? 'block' : 'none';\n",
              "    })();\n",
              "  </script>\n",
              "</div>\n",
              "    </div>\n",
              "  </div>\n"
            ],
            "application/vnd.google.colaboratory.intrinsic+json": {
              "type": "dataframe",
              "variable_name": "data"
            }
          },
          "metadata": {},
          "execution_count": 45
        }
      ],
      "source": [
        "print(data.shape)\n",
        "data.head()"
      ]
    },
    {
      "cell_type": "code",
      "execution_count": null,
      "metadata": {
        "colab": {
          "base_uri": "https://localhost:8080/"
        },
        "id": "GA-3To1PlkZF",
        "outputId": "d6eb8f90-d1af-4162-9406-1aa222ed82ec"
      },
      "outputs": [
        {
          "output_type": "stream",
          "name": "stdout",
          "text": [
            "<class 'pandas.core.frame.DataFrame'>\n",
            "Int64Index: 946719 entries, 0 to 449918\n",
            "Data columns (total 53 columns):\n",
            " #   Column         Non-Null Count   Dtype  \n",
            "---  ------         --------------   -----  \n",
            " 0   Timestamp      946719 non-null  object \n",
            " 1   FIT101         946719 non-null  float64\n",
            " 2   LIT101         946719 non-null  float64\n",
            " 3   MV101          946719 non-null  int64  \n",
            " 4   P101           946719 non-null  int64  \n",
            " 5   P102           946719 non-null  int64  \n",
            " 6   AIT201         946719 non-null  float64\n",
            " 7   AIT202         946719 non-null  float64\n",
            " 8   AIT203         946719 non-null  float64\n",
            " 9   FIT201         946719 non-null  float64\n",
            " 10  MV201          946719 non-null  int64  \n",
            " 11  P201           946719 non-null  int64  \n",
            " 12  P202           946719 non-null  int64  \n",
            " 13  P203           946719 non-null  int64  \n",
            " 14  P204           946719 non-null  int64  \n",
            " 15  P205           946719 non-null  int64  \n",
            " 16  P206           946719 non-null  int64  \n",
            " 17  DPIT301        946719 non-null  float64\n",
            " 18  FIT301         946719 non-null  float64\n",
            " 19  LIT301         946719 non-null  float64\n",
            " 20  MV301          946719 non-null  int64  \n",
            " 21  MV302          946719 non-null  int64  \n",
            " 22  MV303          946719 non-null  int64  \n",
            " 23  MV304          946719 non-null  int64  \n",
            " 24  P301           946719 non-null  int64  \n",
            " 25  P302           946719 non-null  int64  \n",
            " 26  AIT401         946719 non-null  float64\n",
            " 27  AIT402         946719 non-null  float64\n",
            " 28  FIT401         946719 non-null  float64\n",
            " 29  LIT401         946719 non-null  float64\n",
            " 30  P401           946719 non-null  int64  \n",
            " 31  P402           946719 non-null  int64  \n",
            " 32  P403           946719 non-null  int64  \n",
            " 33  P404           946719 non-null  int64  \n",
            " 34  UV401          946719 non-null  int64  \n",
            " 35  AIT501         946719 non-null  float64\n",
            " 36  AIT502         946719 non-null  float64\n",
            " 37  AIT503         946719 non-null  float64\n",
            " 38  AIT504         946719 non-null  float64\n",
            " 39  FIT501         946719 non-null  float64\n",
            " 40  FIT502         946719 non-null  float64\n",
            " 41  FIT503         946719 non-null  float64\n",
            " 42  FIT504         946719 non-null  float64\n",
            " 43  P501           946719 non-null  int64  \n",
            " 44  P502           946719 non-null  int64  \n",
            " 45  PIT501         946719 non-null  float64\n",
            " 46  PIT502         946719 non-null  float64\n",
            " 47  PIT503         946719 non-null  float64\n",
            " 48  FIT601         946719 non-null  float64\n",
            " 49  P601           946719 non-null  int64  \n",
            " 50  P602           946719 non-null  int64  \n",
            " 51  P603           946719 non-null  int64  \n",
            " 52  Normal/Attack  946719 non-null  object \n",
            "dtypes: float64(25), int64(26), object(2)\n",
            "memory usage: 390.0+ MB\n"
          ]
        }
      ],
      "source": [
        "data.info()"
      ]
    },
    {
      "cell_type": "markdown",
      "metadata": {
        "id": "U144t0B-l0Y4"
      },
      "source": [
        "#**3. Visualization**"
      ]
    },
    {
      "cell_type": "code",
      "execution_count": null,
      "metadata": {
        "id": "f8hXmgkYPAFA",
        "colab": {
          "base_uri": "https://localhost:8080/"
        },
        "outputId": "1bd6c889-cddf-4075-e438-b5463ac5c73c"
      },
      "outputs": [
        {
          "output_type": "execute_result",
          "data": {
            "text/plain": [
              "array(['Normal', 'Attack', 'A ttack'], dtype=object)"
            ]
          },
          "metadata": {},
          "execution_count": 5
        }
      ],
      "source": [
        "data['Normal/Attack'].unique()"
      ]
    },
    {
      "cell_type": "code",
      "execution_count": null,
      "metadata": {
        "id": "fL0TCErLAwWY"
      },
      "outputs": [],
      "source": [
        "# Remove extra spaces\n",
        "data['Normal/Attack'] = data['Normal/Attack'].str.replace(' ', '')"
      ]
    },
    {
      "cell_type": "code",
      "execution_count": null,
      "metadata": {
        "id": "_xqhphU-_mT9",
        "colab": {
          "base_uri": "https://localhost:8080/",
          "height": 508
        },
        "outputId": "e55f8200-70d9-4f2a-aa0f-0d20cc35c2a0"
      },
      "outputs": [
        {
          "output_type": "display_data",
          "data": {
            "text/plain": [
              "<Figure size 640x480 with 1 Axes>"
            ],
            "image/png": "[encoded data removed]"
          },
          "metadata": {}
        }
      ],
      "source": [
        "# Class distribution (Normal vs. Attack) in SWaT\n",
        "class_distribution = data['Normal/Attack'].value_counts()\n",
        "fig, ax = plt.subplots()\n",
        "bar_plot = class_distribution.plot(kind='bar', color=['blue', 'red'], ax=ax)\n",
        "\n",
        "plt.title('Class Distribution: Attack vs Normal')\n",
        "plt.xlabel('Class')\n",
        "for i, count in enumerate(class_distribution):\n",
        "    ax.text(i, count, str(count), ha='center', va='bottom')\n",
        "\n",
        "plt.show()"
      ]
    },
    {
      "cell_type": "code",
      "execution_count": null,
      "metadata": {
        "id": "kyxEk4oou9fg"
      },
      "outputs": [],
      "source": [
        "# Converting the Timestamp to a datetime and set it as an index\n",
        "data['Timestamp'] = pd.to_datetime(data['Timestamp'])\n",
        "data= data.set_index('Timestamp')"
      ]
    },
    {
      "cell_type": "code",
      "execution_count": null,
      "metadata": {
        "id": "xWxdCzno4goe",
        "colab": {
          "base_uri": "https://localhost:8080/",
          "height": 564
        },
        "outputId": "9157b38f-f754-4e87-b90d-a01fd2bfa81d"
      },
      "outputs": [
        {
          "output_type": "display_data",
          "data": {
            "text/plain": [
              "<Figure size 1200x600 with 1 Axes>"
            ],
            "image/png": "[encoded data removed]"
          },
          "metadata": {}
        }
      ],
      "source": [
        "attack_data = data[data['Normal/Attack'] == 'Attack']\n",
        "\n",
        "# List of all sensors and actuators in the first stage\n",
        "first_stage_features = ['FIT101', 'LIT101', 'MV101', 'P101', 'P102', 'AIT201']\n",
        "\n",
        "plt.figure(figsize=(12, 6))\n",
        "for feature in first_stage_features:\n",
        "    plt.plot(data.index, data[feature], label=feature)\n",
        "    plt.scatter(attack_data.index, attack_data[feature], color='red', marker='x', label=None)\n",
        "plt.legend()\n",
        "plt.xlabel('Timestamp')\n",
        "plt.title('Plot with Attack Markers for First-Stage Sensors and Actuators')\n",
        "plt.show()"
      ]
    },
    {
      "cell_type": "code",
      "source": [
        "data.index = pd.to_datetime(data.index)\n",
        "\n",
        "# Filter data for the specific time range on 29/12/2015\n",
        "start_time = '2015-12-29 16:30:11'\n",
        "end_time = '2015-12-29 22:00:19'\n",
        "specific_time_range = data[start_time:end_time]\n",
        "\n",
        "# Filter for attack data within the specified time range\n",
        "attack_data2 = specific_time_range[specific_time_range['Normal/Attack'] == 'Attack']\n",
        "\n",
        "# Plot 'FIT101' for the specific time range\n",
        "plt.figure(figsize=(12, 6))\n",
        "plt.plot(specific_time_range.index, specific_time_range['LIT101'], label='LIT101')\n",
        "plt.scatter(attack_data2.index, attack_data2['LIT101'], color='red', marker='x', label='Attack')\n",
        "plt.xlabel('Timestamp')\n",
        "plt.title('Sensor LIT101 Values with Attack Mark on 29/12/2015')\n",
        "plt.xticks(rotation=45)  # Rotate x-axis labels for readability\n",
        "plt.gca().xaxis.set_major_formatter(plt.matplotlib.dates.DateFormatter('%H:%M:%S'))\n",
        "plt.legend()\n",
        "plt.show()\n"
      ],
      "metadata": {
        "colab": {
          "base_uri": "https://localhost:8080/",
          "height": 604
        },
        "id": "aQRt1BoN3tl-",
        "outputId": "93cba0d1-e272-4558-dc61-0454cb94abef"
      },
      "execution_count": null,
      "outputs": [
        {
          "output_type": "display_data",
          "data": {
            "text/plain": [
              "<Figure size 1200x600 with 1 Axes>"
            ],
            "image/png": "[encoded data removed]"
          },
          "metadata": {}
        }
      ]
    },
    {
      "cell_type": "code",
      "execution_count": null,
      "metadata": {
        "colab": {
          "base_uri": "https://localhost:8080/",
          "height": 659
        },
        "id": "AAA5hK-8BlwV",
        "outputId": "f1851a33-6b55-468d-9824-c915ae219449"
      },
      "outputs": [
        {
          "name": "stderr",
          "output_type": "stream",
          "text": [
            "<ipython-input-67-c4c7fa7e50bd>:1: UserWarning: Parsing dates in DD/MM/YYYY format when dayfirst=False (the default) was specified. This may lead to inconsistently parsed dates! Specify a format to ensure consistent parsing.\n",
            "  specific_day = data[data.index.date == pd.to_datetime('31/12/2015').date()]\n"
          ]
        },
        {
          "data": {
            "image/png": "[encoded data removed]",
            "text/plain": [
              "<Figure size 1200x600 with 1 Axes>"
            ]
          },
          "metadata": {},
          "output_type": "display_data"
        }
      ],
      "source": [
        "specific_day = data[data.index.date == pd.to_datetime('31/12/2015').date()]\n",
        "attack_data2 = specific_day[specific_day['Normal/Attack'] == 'Attack']\n",
        "# Plot 'FIT101' for the specific day\n",
        "plt.figure(figsize=(12, 6))\n",
        "plt.plot(specific_day.index, specific_day['FIT101'])\n",
        "plt.scatter(attack_data2.index, attack_data2['FIT101'], color='red', marker='x', label=None)\n",
        "plt.xlabel('Timestamp')\n",
        "plt.title('Sensor FIT101 Values with Attack Marks for 31/12/2015')\n",
        "plt.xticks(rotation=45)  # Rotate x-axis labels for readability\\\n",
        "plt.gca().xaxis.set_major_formatter(plt.matplotlib.dates.DateFormatter('%H:%M:%S'))\n",
        "plt.show()"
      ]
    },
    {
      "cell_type": "markdown",
      "metadata": {
        "id": "OMZnHB7_mJb3"
      },
      "source": [
        "#**4. Data Preprocessing**"
      ]
    },
    {
      "cell_type": "markdown",
      "metadata": {
        "id": "fpEO-P6iHQwx"
      },
      "source": [
        "##Data Cleaning"
      ]
    },
    {
      "cell_type": "code",
      "execution_count": null,
      "metadata": {
        "id": "TSBULQS5bqRZ"
      },
      "outputs": [],
      "source": [
        "# Remove duplicate rows\n",
        "data.drop_duplicates(inplace=True)"
      ]
    },
    {
      "cell_type": "code",
      "execution_count": null,
      "metadata": {
        "id": "hEZPWhYybmZL",
        "colab": {
          "base_uri": "https://localhost:8080/"
        },
        "outputId": "f71841c8-6444-47c2-cbdf-d2cb5d0c5623"
      },
      "outputs": [
        {
          "output_type": "execute_result",
          "data": {
            "text/plain": [
              "(928898, 52)"
            ]
          },
          "metadata": {},
          "execution_count": 11
        }
      ],
      "source": [
        "# Drop missing values\n",
        "data.dropna(inplace=True)\n",
        "\n",
        "data.shape"
      ]
    },
    {
      "cell_type": "code",
      "execution_count": null,
      "metadata": {
        "id": "_S1wJC5jSBLR",
        "colab": {
          "base_uri": "https://localhost:8080/"
        },
        "outputId": "37d42383-98c4-4a40-80d1-0f94fc435ad6"
      },
      "outputs": [
        {
          "output_type": "execute_result",
          "data": {
            "text/plain": [
              "FIT101            3953\n",
              "LIT101           12162\n",
              "MV101                3\n",
              "P101                 2\n",
              "P102                 2\n",
              "AIT201            2338\n",
              "AIT202            1763\n",
              "AIT203            6868\n",
              "FIT201            4989\n",
              "MV201                3\n",
              "P201                 2\n",
              "P202                 1\n",
              "P203                 2\n",
              "P204                 2\n",
              "P205                 2\n",
              "P206                 2\n",
              "DPIT301           5180\n",
              "FIT301            8281\n",
              "LIT301           11966\n",
              "MV301                3\n",
              "MV302                3\n",
              "MV303                3\n",
              "MV304                3\n",
              "P301                 2\n",
              "P302                 2\n",
              "AIT401              37\n",
              "AIT402            4127\n",
              "FIT401             968\n",
              "LIT401           15141\n",
              "P401                 1\n",
              "P402                 2\n",
              "P403                 2\n",
              "P404                 1\n",
              "UV401                2\n",
              "AIT501            1724\n",
              "AIT502            3470\n",
              "AIT503            1123\n",
              "AIT504             565\n",
              "FIT501            1027\n",
              "FIT502            1560\n",
              "FIT503             499\n",
              "FIT504             289\n",
              "P501                 2\n",
              "P502                 1\n",
              "PIT501            1419\n",
              "PIT502             115\n",
              "PIT503            1334\n",
              "FIT601            6043\n",
              "P601                 1\n",
              "P602                 2\n",
              "P603                 1\n",
              "Normal/Attack        2\n",
              "dtype: int64"
            ]
          },
          "metadata": {},
          "execution_count": 12
        }
      ],
      "source": [
        "data.nunique()"
      ]
    },
    {
      "cell_type": "code",
      "execution_count": null,
      "metadata": {
        "id": "E50vWibvR_vL"
      },
      "outputs": [],
      "source": [
        "data = data.loc[:, data.nunique() > 1]"
      ]
    },
    {
      "cell_type": "code",
      "execution_count": null,
      "metadata": {
        "id": "Vl2lUXtfsKfF",
        "colab": {
          "base_uri": "https://localhost:8080/"
        },
        "outputId": "7a6ace7b-d250-4006-db8c-db969b5f3908"
      },
      "outputs": [
        {
          "output_type": "stream",
          "name": "stdout",
          "text": [
            "<class 'pandas.core.frame.DataFrame'>\n",
            "DatetimeIndex: 928898 entries, 2015-12-22 16:00:00 to 2016-02-01 14:59:59\n",
            "Data columns (total 46 columns):\n",
            " #   Column         Non-Null Count   Dtype  \n",
            "---  ------         --------------   -----  \n",
            " 0   FIT101         928898 non-null  float64\n",
            " 1   LIT101         928898 non-null  float64\n",
            " 2   MV101          928898 non-null  int64  \n",
            " 3   P101           928898 non-null  int64  \n",
            " 4   P102           928898 non-null  int64  \n",
            " 5   AIT201         928898 non-null  float64\n",
            " 6   AIT202         928898 non-null  float64\n",
            " 7   AIT203         928898 non-null  float64\n",
            " 8   FIT201         928898 non-null  float64\n",
            " 9   MV201          928898 non-null  int64  \n",
            " 10  P201           928898 non-null  int64  \n",
            " 11  P203           928898 non-null  int64  \n",
            " 12  P204           928898 non-null  int64  \n",
            " 13  P205           928898 non-null  int64  \n",
            " 14  P206           928898 non-null  int64  \n",
            " 15  DPIT301        928898 non-null  float64\n",
            " 16  FIT301         928898 non-null  float64\n",
            " 17  LIT301         928898 non-null  float64\n",
            " 18  MV301          928898 non-null  int64  \n",
            " 19  MV302          928898 non-null  int64  \n",
            " 20  MV303          928898 non-null  int64  \n",
            " 21  MV304          928898 non-null  int64  \n",
            " 22  P301           928898 non-null  int64  \n",
            " 23  P302           928898 non-null  int64  \n",
            " 24  AIT401         928898 non-null  float64\n",
            " 25  AIT402         928898 non-null  float64\n",
            " 26  FIT401         928898 non-null  float64\n",
            " 27  LIT401         928898 non-null  float64\n",
            " 28  P402           928898 non-null  int64  \n",
            " 29  P403           928898 non-null  int64  \n",
            " 30  UV401          928898 non-null  int64  \n",
            " 31  AIT501         928898 non-null  float64\n",
            " 32  AIT502         928898 non-null  float64\n",
            " 33  AIT503         928898 non-null  float64\n",
            " 34  AIT504         928898 non-null  float64\n",
            " 35  FIT501         928898 non-null  float64\n",
            " 36  FIT502         928898 non-null  float64\n",
            " 37  FIT503         928898 non-null  float64\n",
            " 38  FIT504         928898 non-null  float64\n",
            " 39  P501           928898 non-null  int64  \n",
            " 40  PIT501         928898 non-null  float64\n",
            " 41  PIT502         928898 non-null  float64\n",
            " 42  PIT503         928898 non-null  float64\n",
            " 43  FIT601         928898 non-null  float64\n",
            " 44  P602           928898 non-null  int64  \n",
            " 45  Normal/Attack  928898 non-null  object \n",
            "dtypes: float64(25), int64(20), object(1)\n",
            "memory usage: 333.1+ MB\n"
          ]
        }
      ],
      "source": [
        " data.info()"
      ]
    },
    {
      "cell_type": "code",
      "execution_count": null,
      "metadata": {
        "id": "yagabGLwZTnk"
      },
      "outputs": [],
      "source": [
        "# Convert \"Normal/Attack\" column to binary\n",
        "data['Normal/Attack'] = data['Normal/Attack'].apply(lambda x: 1 if x == 'Attack' else 0)\n"
      ]
    },
    {
      "cell_type": "code",
      "source": [
        "X = data.drop('Normal/Attack', axis=1)\n",
        "y= data['Normal/Attack']\n",
        "y = y.reset_index(drop=True)"
      ],
      "metadata": {
        "id": "fO8GY2-OWarg"
      },
      "execution_count": null,
      "outputs": []
    },
    {
      "cell_type": "code",
      "execution_count": null,
      "metadata": {
        "id": "DrnzIg3F0XX0"
      },
      "outputs": [],
      "source": [
        "# Numerical and categorical features\n",
        "numerical_features = []\n",
        "categorical_features = []\n",
        "\n",
        "for column in X.columns:\n",
        "    unique_values = X[column].nunique()\n",
        "    if unique_values > 10:\n",
        "        numerical_features.append(column)\n",
        "    else:\n",
        "        categorical_features.append(column)"
      ]
    },
    {
      "cell_type": "code",
      "execution_count": null,
      "metadata": {
        "id": "A2cxfgyk-jZ7",
        "colab": {
          "base_uri": "https://localhost:8080/"
        },
        "outputId": "9c4e3a55-16db-42f4-8876-15738b7bd576"
      },
      "outputs": [
        {
          "output_type": "execute_result",
          "data": {
            "text/plain": [
              "['FIT101',\n",
              " 'LIT101',\n",
              " 'AIT201',\n",
              " 'AIT202',\n",
              " 'AIT203',\n",
              " 'FIT201',\n",
              " 'DPIT301',\n",
              " 'FIT301',\n",
              " 'LIT301',\n",
              " 'AIT401',\n",
              " 'AIT402',\n",
              " 'FIT401',\n",
              " 'LIT401',\n",
              " 'AIT501',\n",
              " 'AIT502',\n",
              " 'AIT503',\n",
              " 'AIT504',\n",
              " 'FIT501',\n",
              " 'FIT502',\n",
              " 'FIT503',\n",
              " 'FIT504',\n",
              " 'PIT501',\n",
              " 'PIT502',\n",
              " 'PIT503',\n",
              " 'FIT601']"
            ]
          },
          "metadata": {},
          "execution_count": 18
        }
      ],
      "source": [
        "numerical_features"
      ]
    },
    {
      "cell_type": "code",
      "execution_count": null,
      "metadata": {
        "id": "CGwpzfln-n69",
        "colab": {
          "base_uri": "https://localhost:8080/"
        },
        "outputId": "177cef48-9a39-4982-8371-c1628675f881"
      },
      "outputs": [
        {
          "output_type": "execute_result",
          "data": {
            "text/plain": [
              "['MV101',\n",
              " 'P101',\n",
              " 'P102',\n",
              " 'MV201',\n",
              " 'P201',\n",
              " 'P203',\n",
              " 'P204',\n",
              " 'P205',\n",
              " 'P206',\n",
              " 'MV301',\n",
              " 'MV302',\n",
              " 'MV303',\n",
              " 'MV304',\n",
              " 'P301',\n",
              " 'P302',\n",
              " 'P402',\n",
              " 'P403',\n",
              " 'UV401',\n",
              " 'P501',\n",
              " 'P602']"
            ]
          },
          "metadata": {},
          "execution_count": 22
        }
      ],
      "source": [
        "categorical_features"
      ]
    },
    {
      "cell_type": "code",
      "execution_count": null,
      "metadata": {
        "id": "UyDvz0tc3vYf"
      },
      "outputs": [],
      "source": [
        "numerical_data = data[numerical_features]\n",
        "categorical_data = data[categorical_features]\n",
        "\n",
        "# Min-Max scaling for numerical features\n",
        "scaler = MinMaxScaler()\n",
        "numerical_data_scaled = scaler.fit_transform(numerical_data)\n",
        "numerical_data_scaled_df = pd.DataFrame(numerical_data_scaled, columns=numerical_data.columns)\n",
        "\n",
        "# One-hot encoding for categorical features\n",
        "encoder = OneHotEncoder(drop='first', sparse_output=False)\n",
        "encoder.fit(categorical_data)\n",
        "\n",
        "categorical_feature_names = encoder.get_feature_names_out(categorical_data.columns)\n",
        "categorical_data_encoded = encoder.transform(categorical_data)\n",
        "categorical_data_encoded_df = pd.DataFrame(categorical_data_encoded, columns=categorical_feature_names)\n",
        "preprocessed_data = pd.concat([numerical_data_scaled_df, categorical_data_encoded_df], axis=1)"
      ]
    },
    {
      "cell_type": "code",
      "source": [
        "preprocessed_data.info()"
      ],
      "metadata": {
        "id": "qOzUMsNyRUTx",
        "colab": {
          "base_uri": "https://localhost:8080/"
        },
        "outputId": "8ee4b9ee-1aa0-4596-d66f-7e64003465c1"
      },
      "execution_count": null,
      "outputs": [
        {
          "output_type": "stream",
          "name": "stdout",
          "text": [
            "<class 'pandas.core.frame.DataFrame'>\n",
            "RangeIndex: 928898 entries, 0 to 928897\n",
            "Data columns (total 51 columns):\n",
            " #   Column   Non-Null Count   Dtype  \n",
            "---  ------   --------------   -----  \n",
            " 0   FIT101   928898 non-null  float64\n",
            " 1   LIT101   928898 non-null  float64\n",
            " 2   AIT201   928898 non-null  float64\n",
            " 3   AIT202   928898 non-null  float64\n",
            " 4   AIT203   928898 non-null  float64\n",
            " 5   FIT201   928898 non-null  float64\n",
            " 6   DPIT301  928898 non-null  float64\n",
            " 7   FIT301   928898 non-null  float64\n",
            " 8   LIT301   928898 non-null  float64\n",
            " 9   AIT401   928898 non-null  float64\n",
            " 10  AIT402   928898 non-null  float64\n",
            " 11  FIT401   928898 non-null  float64\n",
            " 12  LIT401   928898 non-null  float64\n",
            " 13  AIT501   928898 non-null  float64\n",
            " 14  AIT502   928898 non-null  float64\n",
            " 15  AIT503   928898 non-null  float64\n",
            " 16  AIT504   928898 non-null  float64\n",
            " 17  FIT501   928898 non-null  float64\n",
            " 18  FIT502   928898 non-null  float64\n",
            " 19  FIT503   928898 non-null  float64\n",
            " 20  FIT504   928898 non-null  float64\n",
            " 21  PIT501   928898 non-null  float64\n",
            " 22  PIT502   928898 non-null  float64\n",
            " 23  PIT503   928898 non-null  float64\n",
            " 24  FIT601   928898 non-null  float64\n",
            " 25  MV101_1  928898 non-null  float64\n",
            " 26  MV101_2  928898 non-null  float64\n",
            " 27  P101_2   928898 non-null  float64\n",
            " 28  P102_2   928898 non-null  float64\n",
            " 29  MV201_1  928898 non-null  float64\n",
            " 30  MV201_2  928898 non-null  float64\n",
            " 31  P201_2   928898 non-null  float64\n",
            " 32  P203_2   928898 non-null  float64\n",
            " 33  P204_2   928898 non-null  float64\n",
            " 34  P205_2   928898 non-null  float64\n",
            " 35  P206_2   928898 non-null  float64\n",
            " 36  MV301_1  928898 non-null  float64\n",
            " 37  MV301_2  928898 non-null  float64\n",
            " 38  MV302_1  928898 non-null  float64\n",
            " 39  MV302_2  928898 non-null  float64\n",
            " 40  MV303_1  928898 non-null  float64\n",
            " 41  MV303_2  928898 non-null  float64\n",
            " 42  MV304_1  928898 non-null  float64\n",
            " 43  MV304_2  928898 non-null  float64\n",
            " 44  P301_2   928898 non-null  float64\n",
            " 45  P302_2   928898 non-null  float64\n",
            " 46  P402_2   928898 non-null  float64\n",
            " 47  P403_2   928898 non-null  float64\n",
            " 48  UV401_2  928898 non-null  float64\n",
            " 49  P501_2   928898 non-null  float64\n",
            " 50  P602_2   928898 non-null  float64\n",
            "dtypes: float64(51)\n",
            "memory usage: 361.4 MB\n"
          ]
        }
      ]
    },
    {
      "cell_type": "code",
      "source": [
        "preprocessed_data.head(3)"
      ],
      "metadata": {
        "id": "YJViPEflbnM3",
        "colab": {
          "base_uri": "https://localhost:8080/",
          "height": 173
        },
        "outputId": "a2567d2b-b817-4bde-b574-aa023fda5c49"
      },
      "execution_count": null,
      "outputs": [
        {
          "output_type": "execute_result",
          "data": {
            "text/plain": [
              "     FIT101    LIT101    AIT201    AIT202    AIT203    FIT201   DPIT301  \\\n",
              "0  0.894987  0.160292  0.730144  0.732892  0.073596  0.874201  0.462186   \n",
              "1  0.890230  0.159845  0.730144  0.732892  0.073596  0.873249  0.462186   \n",
              "2  0.883848  0.159533  0.730144  0.732892  0.073596  0.872796  0.463182   \n",
              "\n",
              "     FIT301    LIT301  AIT401  ...  MV303_2  MV304_1  MV304_2  P301_2  P302_2  \\\n",
              "0  0.940694  0.182199     0.0  ...      0.0      1.0      0.0     1.0     0.0   \n",
              "1  0.940371  0.182199     0.0  ...      0.0      1.0      0.0     1.0     0.0   \n",
              "2  0.939886  0.182199     0.0  ...      0.0      1.0      0.0     1.0     0.0   \n",
              "\n",
              "   P402_2  P403_2  UV401_2  P501_2  P602_2  \n",
              "0     0.0     0.0      0.0     0.0     0.0  \n",
              "1     0.0     0.0      0.0     0.0     0.0  \n",
              "2     0.0     0.0      0.0     0.0     0.0  \n",
              "\n",
              "[3 rows x 51 columns]"
            ],
            "text/html": [
              "\n",
              "  <div id=\"df-0c246fd7-a05e-46a5-b876-67951b8ffb3d\" class=\"colab-df-container\">\n",
              "    <div>\n",
              "<style scoped>\n",
              "    .dataframe tbody tr th:only-of-type {\n",
              "        vertical-align: middle;\n",
              "    }\n",
              "\n",
              "    .dataframe tbody tr th {\n",
              "        vertical-align: top;\n",
              "    }\n",
              "\n",
              "    .dataframe thead th {\n",
              "        text-align: right;\n",
              "    }\n",
              "</style>\n",
              "<table border=\"1\" class=\"dataframe\">\n",
              "  <thead>\n",
              "    <tr style=\"text-align: right;\">\n",
              "      <th></th>\n",
              "      <th>FIT101</th>\n",
              "      <th>LIT101</th>\n",
              "      <th>AIT201</th>\n",
              "      <th>AIT202</th>\n",
              "      <th>AIT203</th>\n",
              "      <th>FIT201</th>\n",
              "      <th>DPIT301</th>\n",
              "      <th>FIT301</th>\n",
              "      <th>LIT301</th>\n",
              "      <th>AIT401</th>\n",
              "      <th>...</th>\n",
              "      <th>MV303_2</th>\n",
              "      <th>MV304_1</th>\n",
              "      <th>MV304_2</th>\n",
              "      <th>P301_2</th>\n",
              "      <th>P302_2</th>\n",
              "      <th>P402_2</th>\n",
              "      <th>P403_2</th>\n",
              "      <th>UV401_2</th>\n",
              "      <th>P501_2</th>\n",
              "      <th>P602_2</th>\n",
              "    </tr>\n",
              "  </thead>\n",
              "  <tbody>\n",
              "    <tr>\n",
              "      <th>0</th>\n",
              "      <td>0.894987</td>\n",
              "      <td>0.160292</td>\n",
              "      <td>0.730144</td>\n",
              "      <td>0.732892</td>\n",
              "      <td>0.073596</td>\n",
              "      <td>0.874201</td>\n",
              "      <td>0.462186</td>\n",
              "      <td>0.940694</td>\n",
              "      <td>0.182199</td>\n",
              "      <td>0.0</td>\n",
              "      <td>...</td>\n",
              "      <td>0.0</td>\n",
              "      <td>1.0</td>\n",
              "      <td>0.0</td>\n",
              "      <td>1.0</td>\n",
              "      <td>0.0</td>\n",
              "      <td>0.0</td>\n",
              "      <td>0.0</td>\n",
              "      <td>0.0</td>\n",
              "      <td>0.0</td>\n",
              "      <td>0.0</td>\n",
              "    </tr>\n",
              "    <tr>\n",
              "      <th>1</th>\n",
              "      <td>0.890230</td>\n",
              "      <td>0.159845</td>\n",
              "      <td>0.730144</td>\n",
              "      <td>0.732892</td>\n",
              "      <td>0.073596</td>\n",
              "      <td>0.873249</td>\n",
              "      <td>0.462186</td>\n",
              "      <td>0.940371</td>\n",
              "      <td>0.182199</td>\n",
              "      <td>0.0</td>\n",
              "      <td>...</td>\n",
              "      <td>0.0</td>\n",
              "      <td>1.0</td>\n",
              "      <td>0.0</td>\n",
              "      <td>1.0</td>\n",
              "      <td>0.0</td>\n",
              "      <td>0.0</td>\n",
              "      <td>0.0</td>\n",
              "      <td>0.0</td>\n",
              "      <td>0.0</td>\n",
              "      <td>0.0</td>\n",
              "    </tr>\n",
              "    <tr>\n",
              "      <th>2</th>\n",
              "      <td>0.883848</td>\n",
              "      <td>0.159533</td>\n",
              "      <td>0.730144</td>\n",
              "      <td>0.732892</td>\n",
              "      <td>0.073596</td>\n",
              "      <td>0.872796</td>\n",
              "      <td>0.463182</td>\n",
              "      <td>0.939886</td>\n",
              "      <td>0.182199</td>\n",
              "      <td>0.0</td>\n",
              "      <td>...</td>\n",
              "      <td>0.0</td>\n",
              "      <td>1.0</td>\n",
              "      <td>0.0</td>\n",
              "      <td>1.0</td>\n",
              "      <td>0.0</td>\n",
              "      <td>0.0</td>\n",
              "      <td>0.0</td>\n",
              "      <td>0.0</td>\n",
              "      <td>0.0</td>\n",
              "      <td>0.0</td>\n",
              "    </tr>\n",
              "  </tbody>\n",
              "</table>\n",
              "<p>3 rows × 51 columns</p>\n",
              "</div>\n",
              "    <div class=\"colab-df-buttons\">\n",
              "\n",
              "  <div class=\"colab-df-container\">\n",
              "    <button class=\"colab-df-convert\" onclick=\"convertToInteractive('df-0c246fd7-a05e-46a5-b876-67951b8ffb3d')\"\n",
              "            title=\"Convert this dataframe to an interactive table.\"\n",
              "            style=\"display:none;\">\n",
              "\n",
              "  <svg xmlns=\"http://www.w3.org/2000/svg\" height=\"24px\" viewBox=\"0 -960 960 960\">\n",
              "    <path d=\"M120-120v-720h720v720H120Zm60-500h600v-160H180v160Zm220 220h160v-160H400v160Zm0 220h160v-160H400v160ZM180-400h160v-160H180v160Zm440 0h160v-160H620v160ZM180-180h160v-160H180v160Zm440 0h160v-160H620v160Z\"/>\n",
              "  </svg>\n",
              "    </button>\n",
              "\n",
              "  <style>\n",
              "    .colab-df-container {\n",
              "      display:flex;\n",
              "      gap: 12px;\n",
              "    }\n",
              "\n",
              "    .colab-df-convert {\n",
              "      background-color: #E8F0FE;\n",
              "      border: none;\n",
              "      border-radius: 50%;\n",
              "      cursor: pointer;\n",
              "      display: none;\n",
              "      fill: #1967D2;\n",
              "      height: 32px;\n",
              "      padding: 0 0 0 0;\n",
              "      width: 32px;\n",
              "    }\n",
              "\n",
              "    .colab-df-convert:hover {\n",
              "      background-color: #E2EBFA;\n",
              "      box-shadow: 0px 1px 2px rgba(60, 64, 67, 0.3), 0px 1px 3px 1px rgba(60, 64, 67, 0.15);\n",
              "      fill: #174EA6;\n",
              "    }\n",
              "\n",
              "    .colab-df-buttons div {\n",
              "      margin-bottom: 4px;\n",
              "    }\n",
              "\n",
              "    [theme=dark] .colab-df-convert {\n",
              "      background-color: #3B4455;\n",
              "      fill: #D2E3FC;\n",
              "    }\n",
              "\n",
              "    [theme=dark] .colab-df-convert:hover {\n",
              "      background-color: #434B5C;\n",
              "      box-shadow: 0px 1px 3px 1px rgba(0, 0, 0, 0.15);\n",
              "      filter: drop-shadow(0px 1px 2px rgba(0, 0, 0, 0.3));\n",
              "      fill: #FFFFFF;\n",
              "    }\n",
              "  </style>\n",
              "\n",
              "    <script>\n",
              "      const buttonEl =\n",
              "        document.querySelector('#df-0c246fd7-a05e-46a5-b876-67951b8ffb3d button.colab-df-convert');\n",
              "      buttonEl.style.display =\n",
              "        google.colab.kernel.accessAllowed ? 'block' : 'none';\n",
              "\n",
              "      async function convertToInteractive(key) {\n",
              "        const element = document.querySelector('#df-0c246fd7-a05e-46a5-b876-67951b8ffb3d');\n",
              "        const dataTable =\n",
              "          await google.colab.kernel.invokeFunction('convertToInteractive',\n",
              "                                                    [key], {});\n",
              "        if (!dataTable) return;\n",
              "\n",
              "        const docLinkHtml = 'Like what you see? Visit the ' +\n",
              "          '<a target=\"_blank\" href=https://colab.research.google.com/notebooks/data_table.ipynb>data table notebook</a>'\n",
              "          + ' to learn more about interactive tables.';\n",
              "        element.innerHTML = '';\n",
              "        dataTable['output_type'] = 'display_data';\n",
              "        await google.colab.output.renderOutput(dataTable, element);\n",
              "        const docLink = document.createElement('div');\n",
              "        docLink.innerHTML = docLinkHtml;\n",
              "        element.appendChild(docLink);\n",
              "      }\n",
              "    </script>\n",
              "  </div>\n",
              "\n",
              "\n",
              "<div id=\"df-49cd5820-659c-4791-bddb-cf4109d55d6e\">\n",
              "  <button class=\"colab-df-quickchart\" onclick=\"quickchart('df-49cd5820-659c-4791-bddb-cf4109d55d6e')\"\n",
              "            title=\"Suggest charts\"\n",
              "            style=\"display:none;\">\n",
              "\n",
              "<svg xmlns=\"http://www.w3.org/2000/svg\" height=\"24px\"viewBox=\"0 0 24 24\"\n",
              "     width=\"24px\">\n",
              "    <g>\n",
              "        <path d=\"M19 3H5c-1.1 0-2 .9-2 2v14c0 1.1.9 2 2 2h14c1.1 0 2-.9 2-2V5c0-1.1-.9-2-2-2zM9 17H7v-7h2v7zm4 0h-2V7h2v10zm4 0h-2v-4h2v4z\"/>\n",
              "    </g>\n",
              "</svg>\n",
              "  </button>\n",
              "\n",
              "<style>\n",
              "  .colab-df-quickchart {\n",
              "      --bg-color: #E8F0FE;\n",
              "      --fill-color: #1967D2;\n",
              "      --hover-bg-color: #E2EBFA;\n",
              "      --hover-fill-color: #174EA6;\n",
              "      --disabled-fill-color: #AAA;\n",
              "      --disabled-bg-color: #DDD;\n",
              "  }\n",
              "\n",
              "  [theme=dark] .colab-df-quickchart {\n",
              "      --bg-color: #3B4455;\n",
              "      --fill-color: #D2E3FC;\n",
              "      --hover-bg-color: #434B5C;\n",
              "      --hover-fill-color: #FFFFFF;\n",
              "      --disabled-bg-color: #3B4455;\n",
              "      --disabled-fill-color: #666;\n",
              "  }\n",
              "\n",
              "  .colab-df-quickchart {\n",
              "    background-color: var(--bg-color);\n",
              "    border: none;\n",
              "    border-radius: 50%;\n",
              "    cursor: pointer;\n",
              "    display: none;\n",
              "    fill: var(--fill-color);\n",
              "    height: 32px;\n",
              "    padding: 0;\n",
              "    width: 32px;\n",
              "  }\n",
              "\n",
              "  .colab-df-quickchart:hover {\n",
              "    background-color: var(--hover-bg-color);\n",
              "    box-shadow: 0 1px 2px rgba(60, 64, 67, 0.3), 0 1px 3px 1px rgba(60, 64, 67, 0.15);\n",
              "    fill: var(--button-hover-fill-color);\n",
              "  }\n",
              "\n",
              "  .colab-df-quickchart-complete:disabled,\n",
              "  .colab-df-quickchart-complete:disabled:hover {\n",
              "    background-color: var(--disabled-bg-color);\n",
              "    fill: var(--disabled-fill-color);\n",
              "    box-shadow: none;\n",
              "  }\n",
              "\n",
              "  .colab-df-spinner {\n",
              "    border: 2px solid var(--fill-color);\n",
              "    border-color: transparent;\n",
              "    border-bottom-color: var(--fill-color);\n",
              "    animation:\n",
              "      spin 1s steps(1) infinite;\n",
              "  }\n",
              "\n",
              "  @keyframes spin {\n",
              "    0% {\n",
              "      border-color: transparent;\n",
              "      border-bottom-color: var(--fill-color);\n",
              "      border-left-color: var(--fill-color);\n",
              "    }\n",
              "    20% {\n",
              "      border-color: transparent;\n",
              "      border-left-color: var(--fill-color);\n",
              "      border-top-color: var(--fill-color);\n",
              "    }\n",
              "    30% {\n",
              "      border-color: transparent;\n",
              "      border-left-color: var(--fill-color);\n",
              "      border-top-color: var(--fill-color);\n",
              "      border-right-color: var(--fill-color);\n",
              "    }\n",
              "    40% {\n",
              "      border-color: transparent;\n",
              "      border-right-color: var(--fill-color);\n",
              "      border-top-color: var(--fill-color);\n",
              "    }\n",
              "    60% {\n",
              "      border-color: transparent;\n",
              "      border-right-color: var(--fill-color);\n",
              "    }\n",
              "    80% {\n",
              "      border-color: transparent;\n",
              "      border-right-color: var(--fill-color);\n",
              "      border-bottom-color: var(--fill-color);\n",
              "    }\n",
              "    90% {\n",
              "      border-color: transparent;\n",
              "      border-bottom-color: var(--fill-color);\n",
              "    }\n",
              "  }\n",
              "</style>\n",
              "\n",
              "  <script>\n",
              "    async function quickchart(key) {\n",
              "      const quickchartButtonEl =\n",
              "        document.querySelector('#' + key + ' button');\n",
              "      quickchartButtonEl.disabled = true;  // To prevent multiple clicks.\n",
              "      quickchartButtonEl.classList.add('colab-df-spinner');\n",
              "      try {\n",
              "        const charts = await google.colab.kernel.invokeFunction(\n",
              "            'suggestCharts', [key], {});\n",
              "      } catch (error) {\n",
              "        console.error('Error during call to suggestCharts:', error);\n",
              "      }\n",
              "      quickchartButtonEl.classList.remove('colab-df-spinner');\n",
              "      quickchartButtonEl.classList.add('colab-df-quickchart-complete');\n",
              "    }\n",
              "    (() => {\n",
              "      let quickchartButtonEl =\n",
              "        document.querySelector('#df-49cd5820-659c-4791-bddb-cf4109d55d6e button');\n",
              "      quickchartButtonEl.style.display =\n",
              "        google.colab.kernel.accessAllowed ? 'block' : 'none';\n",
              "    })();\n",
              "  </script>\n",
              "</div>\n",
              "    </div>\n",
              "  </div>\n"
            ],
            "application/vnd.google.colaboratory.intrinsic+json": {
              "type": "dataframe",
              "variable_name": "preprocessed_data"
            }
          },
          "metadata": {},
          "execution_count": 21
        }
      ]
    },
    {
      "cell_type": "code",
      "source": [
        "# Save preprocessed data to drive\n",
        "preprocessed_data.to_csv('/content/drive/My Drive/swat/preprocessed_data.csv', index=False)"
      ],
      "metadata": {
        "id": "AiUd3YkKJYUx"
      },
      "execution_count": null,
      "outputs": []
    }
  ],
  "metadata": {
    "colab": {
      "provenance": [],
      "collapsed_sections": [
        "0qJNJiN9o0nM",
        "U144t0B-l0Y4",
        "OMZnHB7_mJb3",
        "fpEO-P6iHQwx"
      ],
      "include_colab_link": true
    },
    "kernelspec": {
      "display_name": "Python 3",
      "name": "python3"
    },
    "language_info": {
      "name": "python"
    }
  },
  "nbformat": 4,
  "nbformat_minor": 0
}